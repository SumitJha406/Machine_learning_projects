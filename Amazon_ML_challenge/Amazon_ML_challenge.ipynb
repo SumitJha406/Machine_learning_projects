{
  "nbformat": 4,
  "nbformat_minor": 0,
  "metadata": {
    "colab": {
      "name": "Amazon_ML_challenge.ipynb",
      "provenance": [],
      "collapsed_sections": [],
      "authorship_tag": "ABX9TyNp1HPWFIO6HcPTPu61zN7M",
      "include_colab_link": true
    },
    "kernelspec": {
      "display_name": "Python 3",
      "name": "python3"
    },
    "language_info": {
      "name": "python"
    }
  },
  "cells": [
    {
      "cell_type": "markdown",
      "metadata": {
        "id": "view-in-github",
        "colab_type": "text"
      },
      "source": [
        "<a href=\"https://colab.research.google.com/github/SumitJha406/Machine_learning_projects/blob/main/Amazon_ML_challenge.ipynb\" target=\"_parent\"><img src=\"https://colab.research.google.com/assets/colab-badge.svg\" alt=\"Open In Colab\"/></a>"
      ]
    },
    {
      "cell_type": "code",
      "metadata": {
        "colab": {
          "base_uri": "https://localhost:8080/"
        },
        "id": "REKT9NEZLwBG",
        "outputId": "d7c756f6-692d-406a-aeb4-4cc8d2578328"
      },
      "source": [
        "from google.colab import drive\n",
        "drive.mount('/content/drive',force_remount=True)"
      ],
      "execution_count": null,
      "outputs": [
        {
          "output_type": "stream",
          "text": [
            "Mounted at /content/drive\n"
          ],
          "name": "stdout"
        }
      ]
    },
    {
      "cell_type": "code",
      "metadata": {
        "id": "iZ2R2sMhThdG"
      },
      "source": [
        "# ! unzip \"/content/drive/MyDrive/Colab Notebooks/Amazon data/546b594ee0a211eb.zip\" -d \"/content/drive/MyDrive/Colab Notebooks/Amazon data\""
      ],
      "execution_count": null,
      "outputs": []
    },
    {
      "cell_type": "code",
      "metadata": {
        "id": "WlppaQ_KVWCJ"
      },
      "source": [
        "# import requests \n",
        "# file_url=\"http://www.africau.edu/images/default/sample.pdf\"\n",
        "    \n",
        "# r = requests.get(file_url, stream = True) \n",
        "\n",
        "# with open(\"/content/gdrive/My Drive/python.pdf\", \"wb\") as file: \n",
        "#     for block in r.iter_content(chunk_size = 1024): \n",
        "#         if block: \n",
        "#             file.write(block)\n",
        " "
      ],
      "execution_count": null,
      "outputs": []
    },
    {
      "cell_type": "code",
      "metadata": {
        "id": "FnTtcifJZEgj"
      },
      "source": [
        "# import requests\n",
        "\n",
        "# url = 'https://s3-ap-southeast-1.amazonaws.com/he-public-data/dataset52a7b21.zip'\n",
        "# r = requests.get(url, allow_redirects=True)"
      ],
      "execution_count": null,
      "outputs": []
    },
    {
      "cell_type": "code",
      "metadata": {
        "id": "tHcgEr8eZO4d"
      },
      "source": [
        "# ! unzip \"/content/drive/MyDrive/Colab Notebooks/Amazon data/dataset/dataset52a7b21.zip\" -d \"/content/drive/MyDrive/Colab Notebooks/Amazon data/dataset\""
      ],
      "execution_count": null,
      "outputs": []
    },
    {
      "cell_type": "code",
      "metadata": {
        "id": "wIOs5Gt0cwxi"
      },
      "source": [
        "import pandas as pd \n",
        "import numpy as np\n",
        "import csv"
      ],
      "execution_count": null,
      "outputs": []
    },
    {
      "cell_type": "code",
      "metadata": {
        "id": "WfRR2pGRezx6"
      },
      "source": [
        "\n",
        "\n",
        "# training_data = pd.read_csv(\"/content/drive/MyDrive/Colab Notebooks/Amazon data/dataset/dataset/train.csv\",quoting = csv.QUOTE_NONE,escapechar = \"\\\\\" )\n",
        "train4 = pd.read_csv(\"/content/drive/MyDrive/Colab Notebooks/Amazon data/dataset/dataset/train4.csv\")\n"
      ],
      "execution_count": null,
      "outputs": []
    },
    {
      "cell_type": "code",
      "metadata": {
        "id": "ZLXqfgB1dGNX"
      },
      "source": [
        "# train2"
      ],
      "execution_count": null,
      "outputs": []
    },
    {
      "cell_type": "code",
      "metadata": {
        "id": "SOhygjgYIofc"
      },
      "source": [
        "train_eight = train4.head()"
      ],
      "execution_count": null,
      "outputs": []
    },
    {
      "cell_type": "code",
      "metadata": {
        "id": "IejoFc-ISkMO"
      },
      "source": [
        "#  train5 = train2.iloc[ : train2.shape[0]//2]\n"
      ],
      "execution_count": null,
      "outputs": []
    },
    {
      "cell_type": "code",
      "metadata": {
        "id": "Dr45fMNGsvSQ"
      },
      "source": [
        "# train6= train2.iloc[train2.shape[0]//2:train2.shape[0]]"
      ],
      "execution_count": null,
      "outputs": []
    },
    {
      "cell_type": "code",
      "metadata": {
        "id": "uIly27sMflal"
      },
      "source": [
        "# train6.to_csv('/content/drive/MyDrive/Colab Notebooks/Amazon data/dataset/dataset/train6.csv', index = False)\n"
      ],
      "execution_count": null,
      "outputs": []
    },
    {
      "cell_type": "code",
      "metadata": {
        "id": "dhWShy73r8nZ"
      },
      "source": [
        ""
      ],
      "execution_count": null,
      "outputs": []
    },
    {
      "cell_type": "code",
      "metadata": {
        "id": "CGIfxINyeWwE"
      },
      "source": [
        "# train"
      ],
      "execution_count": null,
      "outputs": []
    },
    {
      "cell_type": "code",
      "metadata": {
        "id": "qNh7r_5cfEmy"
      },
      "source": [
        "\n",
        "# training_data.head()"
      ],
      "execution_count": null,
      "outputs": []
    },
    {
      "cell_type": "code",
      "metadata": {
        "id": "sCIXzm11hFYT"
      },
      "source": [
        "# Test_data = pd.read_csv(\"/content/drive/MyDrive/Colab Notebooks/Amazon data/dataset/dataset/test.csv\",quoting = csv.QUOTE_NONE,escapechar = \"\\\\\" )"
      ],
      "execution_count": null,
      "outputs": []
    },
    {
      "cell_type": "code",
      "metadata": {
        "id": "r1DaMwOZim6W"
      },
      "source": [
        "# Test_data"
      ],
      "execution_count": null,
      "outputs": []
    },
    {
      "cell_type": "code",
      "metadata": {
        "id": "2yX0QNgGisao"
      },
      "source": [
        "# training_data.info()"
      ],
      "execution_count": null,
      "outputs": []
    },
    {
      "cell_type": "code",
      "metadata": {
        "id": "4hq6VCYPi9l6"
      },
      "source": [
        "# z=training_data['BRAND'].astype(str).unique()\n",
        "# d = dict(enumerate(z.flatten(), 1))\n",
        " \n"
      ],
      "execution_count": null,
      "outputs": []
    },
    {
      "cell_type": "code",
      "metadata": {
        "id": "LdA_RXJL1JDp"
      },
      "source": [
        "# with open('/content/drive/MyDrive/Colab Notebooks/Amazon data/dataset/dataset/dict.csv', 'w') as csv_file:  \n",
        "#     writer = csv.writer(csv_file)\n",
        "#     for key, value in d.items():\n",
        "#        writer.writerow([key, value])\n"
      ],
      "execution_count": null,
      "outputs": []
    },
    {
      "cell_type": "code",
      "metadata": {
        "id": "RG-3PGX54BMP"
      },
      "source": [
        "# u= pd.read_csv(\"/content/drive/MyDrive/Colab Notebooks/Amazon data/dataset/dataset/dict.csv\")\n"
      ],
      "execution_count": null,
      "outputs": []
    },
    {
      "cell_type": "code",
      "metadata": {
        "id": "iaweIB2u40Eb"
      },
      "source": [
        "with open('/content/drive/MyDrive/Colab Notebooks/Amazon data/dataset/dataset/dict.csv') as csv_file:\n",
        "    reader = csv.reader(csv_file)\n",
        "    mydict = dict(reader)\n"
      ],
      "execution_count": null,
      "outputs": []
    },
    {
      "cell_type": "code",
      "metadata": {
        "id": "AwQjnpeyL4eu"
      },
      "source": [
        "reverse_mydict = { value: key for (key, value) in mydict.items()}"
      ],
      "execution_count": null,
      "outputs": []
    },
    {
      "cell_type": "code",
      "metadata": {
        "colab": {
          "base_uri": "https://localhost:8080/"
        },
        "id": "vBGLJ9h4KPdw",
        "outputId": "2b64f890-63ad-4b38-a3c7-ae781963a63a"
      },
      "source": [
        "reverse_mydict"
      ],
      "execution_count": null,
      "outputs": [
        {
          "output_type": "execute_result",
          "data": {
            "text/plain": [
              "{'MerryMakers': '1',\n",
              " 'The New Yorker': '2',\n",
              " 'imusti': '3',\n",
              " 'Amway': '4',\n",
              " 'nan': '5',\n",
              " 'Bhavya Enterprise': '6',\n",
              " 'Glance': '7',\n",
              " 'hungry brain': '8',\n",
              " 'Chapin International': '9',\n",
              " 'Braun': '10',\n",
              " 'YAMAHA': '11',\n",
              " 'Microsoft': '12',\n",
              " 'Jiffy': '13',\n",
              " 'OXO': '14',\n",
              " 'Sony': '15',\n",
              " 'Westcott': '16',\n",
              " 'InterDesign': '17',\n",
              " 'Woodard & Charles': '18',\n",
              " 'Americana': '19',\n",
              " 'Intex': '20',\n",
              " 'Oscar': '21',\n",
              " 'Farberware': '22',\n",
              " '3M': '23',\n",
              " 'ZOJIRUSHI': '24',\n",
              " 'Sabian': '25',\n",
              " 'NTE Electronics': '26',\n",
              " 'C2G': '27',\n",
              " 'Verbatim': '28',\n",
              " 'Go Video': '29',\n",
              " \"D'Addario\": '30',\n",
              " 'Annemarie Borlind': '31',\n",
              " 'Golden': '32',\n",
              " 'Buddy': '33',\n",
              " 'Educational Insights': '34',\n",
              " 'Panter Company': '35',\n",
              " 'Wrangler': '36',\n",
              " 'Rio Grande Games': '37',\n",
              " 'Wilton': '38',\n",
              " 'Stanley': '39',\n",
              " 'OSTER': '40',\n",
              " 'KONG': '41',\n",
              " 'Sally Hansen': '42',\n",
              " 'Hyper': '43',\n",
              " 'Rosenthal': '44',\n",
              " 'National': '45',\n",
              " 'Iron Man': '46',\n",
              " 'ACDelco': '47',\n",
              " 'La Bella': '48',\n",
              " 'Fiskars': '49',\n",
              " 'Belkin': '50',\n",
              " 'Body Solid': '51',\n",
              " 'LEGO': '52',\n",
              " 'StarMark': '53',\n",
              " 'Familia': '54',\n",
              " 'Tolo': '55',\n",
              " 'PRISMACOLOR': '56',\n",
              " 'Colorado Boomerangs': '57',\n",
              " 'Shelby Collect': '58',\n",
              " 'Progressive Suspension': '59',\n",
              " 'Milton Bradley': '60',\n",
              " 'Hasbro': '61',\n",
              " 'Pelikan': '62',\n",
              " 'Scent Shield': '63',\n",
              " 'Mitutoyo': '64',\n",
              " 'ITW Consumer/ Devcon': '65',\n",
              " 'Barbie': '66',\n",
              " 'Reston Lloyd': '67',\n",
              " 'Aurora': '68',\n",
              " 'Bazzill': '69',\n",
              " 'Safari Ltd': '70',\n",
              " 'O.P.I': '71',\n",
              " 'Florida': '72',\n",
              " 'Kenko': '73',\n",
              " 'Victorinox': '74',\n",
              " 'Vans': '75',\n",
              " 'Eibach': '76',\n",
              " 'FISHER': '77',\n",
              " 'CANDLE-LITE COMPANY': '78',\n",
              " 'Royal Canin': '79',\n",
              " 'Audio-Technica': '80',\n",
              " 'Bosmere': '81',\n",
              " 'Perixx': '82',\n",
              " 'RiteAV': '83',\n",
              " 'Kingston': '84',\n",
              " 'Allergy Research Group': '85',\n",
              " 'HP': '86',\n",
              " 'Foampro': '87',\n",
              " 'Reminisce': '88',\n",
              " 'Toys R Us': '89',\n",
              " 'SCALA': '90',\n",
              " 'Realtree': '91',\n",
              " 'Jason Natural Cosmetics': '92',\n",
              " 'Mayflower Products': '93',\n",
              " 'Seagate': '94',\n",
              " 'Imperial': '95',\n",
              " 'Lexerd': '96',\n",
              " 'Fram': '97',\n",
              " 'Sekonic': '98',\n",
              " 'DecoArt': '99',\n",
              " 'Vaseline': '100',\n",
              " 'Maybelline': '101',\n",
              " 'Transcend': '102',\n",
              " 'Bickiepegs': '103',\n",
              " 'JAVANA SUNNY TEXTIL': '104',\n",
              " 'Post-It': '105',\n",
              " 'Panasonic': '106',\n",
              " 'Ben 10': '107',\n",
              " 'Mustad': '108',\n",
              " 'Pinnacle': '109',\n",
              " 'STERLING, a KOHLER Company': '110',\n",
              " 'Reebok': '111',\n",
              " 'Giovanni': '112',\n",
              " 'Kala': '113',\n",
              " 'Louisville Ladder': '114',\n",
              " 'ASUS': '115',\n",
              " 'Red Wing Heritage': '116',\n",
              " 'Speakman': '117',\n",
              " \"Levi's\": '118',\n",
              " 'Lanikai': '119',\n",
              " 'Stuffems Toy Shop': '120',\n",
              " 'DMC': '121',\n",
              " 'LP': '122',\n",
              " 'Peugeot': '123',\n",
              " 'AVERY': '124',\n",
              " 'Regency Wraps': '125',\n",
              " 'Rapala': '126',\n",
              " 'Maisto': '127',\n",
              " 'Winco': '128',\n",
              " 'Happy Sales': '129',\n",
              " 'Polo Ralph Lauren': '130',\n",
              " 'Advanced Nutrients': '131',\n",
              " 'Stout': '132',\n",
              " 'Axiom': '133',\n",
              " 'KegWorks': '134',\n",
              " 'Hepkat Provisioners': '135',\n",
              " 'Dell': '136',\n",
              " 'Grohe': '137',\n",
              " 'Mattel': '138',\n",
              " 'Trangia': '139',\n",
              " 'Rubbermaid': '140',\n",
              " 'Dorman': '141',\n",
              " 'MXL Mics': '142',\n",
              " 'Acoustic Audio by Goldwood': '143',\n",
              " 'Hohner Kids': '144',\n",
              " 'ASIAN': '145',\n",
              " 'Vixen': '146',\n",
              " 'Edemco': '147',\n",
              " 'Leviton': '148',\n",
              " 'John': '149',\n",
              " 'Miz Mooz': '150',\n",
              " 'Masterpiece Artist Canvas': '151',\n",
              " 'Casio': '152',\n",
              " 'DE': '153',\n",
              " 'Shubb': '154',\n",
              " 'Bee Paper Company': '155',\n",
              " 'Nalgene': '156',\n",
              " 'iQ Derma': '157',\n",
              " 'Revol': '158',\n",
              " 'Clairol': '159',\n",
              " 'Staedtler': '160',\n",
              " 'G. I. Joe': '161',\n",
              " 'Aeromat': '162',\n",
              " 'Wix': '163',\n",
              " 'Retro 51': '164',\n",
              " 'AnySharp': '165',\n",
              " 'A1 Cardone': '166',\n",
              " 'DAP': '167',\n",
              " 'Duncan': '168',\n",
              " 'HEAD': '169',\n",
              " \"Rubie's Costume Co\": '170',\n",
              " \"L'Oreal Paris\": '171',\n",
              " 'DC': '172',\n",
              " 'Infantino': '173',\n",
              " 'Laura Ashley': '174',\n",
              " 'Health Aid': '175',\n",
              " 'Chevron': '176',\n",
              " 'FloraCraft': '177',\n",
              " 'Nexxus': '178',\n",
              " 'EXCELL': '179',\n",
              " \"Burt's Bees\": '180',\n",
              " 'Advantus': '181',\n",
              " 'Adidas': '182',\n",
              " 'IRIS USA, Inc.': '183',\n",
              " 'Hot Wheels': '184',\n",
              " 'Cancor': '185',\n",
              " 'BODY': '186',\n",
              " 'SIKU': '187',\n",
              " 'Fisher-Price': '188',\n",
              " 'Zebra': '189',\n",
              " 'Intel': '190',\n",
              " 'Mahogany': '191',\n",
              " 'Spode': '192',\n",
              " 'KERASTASE': '193',\n",
              " 'SilverStone': '194',\n",
              " 'Sandicast': '195',\n",
              " 'Mintcraft': '196',\n",
              " 'Quickie': '197',\n",
              " 'SOFFE': '198',\n",
              " 'Lion Brand Yarn': '199',\n",
              " 'Stride Rite': '200',\n",
              " 'Red Wing Shoes': '201',\n",
              " 'Intro-Tech Automotive': '202',\n",
              " 'Precision Twist': '203',\n",
              " 'MONT BLANC': '204',\n",
              " 'Flents by Apothecary Products, Inc.': '205',\n",
              " 'Bosch': '206',\n",
              " 'Samsung': '207',\n",
              " 'Hydor': '208',\n",
              " 'Sure Men': '209',\n",
              " 'Pilot': '210',\n",
              " 'SpeeCo': '211',\n",
              " 'Nivea': '212',\n",
              " 'Cmple': '213',\n",
              " 'Blackmagic Design': '214',\n",
              " 'Exotic India': '215',\n",
              " 'PHILIPS': '216',\n",
              " 'Carlton': '217',\n",
              " 'Kent': '218',\n",
              " 'Oakley': '219',\n",
              " \"Nature's Plus\": '220',\n",
              " 'Fossil': '221',\n",
              " 'Generic': '222',\n",
              " 'Chartpak': '223',\n",
              " 'Unicel': '224',\n",
              " 'Lomography': '225',\n",
              " 'Collectable Diecast': '226',\n",
              " 'Greatlookz Fashion': '227',\n",
              " 'Drums & Percussion': '228',\n",
              " 'Awisco': '229',\n",
              " 'Malabrigo': '230',\n",
              " 'Starline': '231',\n",
              " 'Photo Paper Direct': '232',\n",
              " 'Winsor & Newton': '233',\n",
              " 'Head & Shoulders': '234',\n",
              " 'Peavey': '235',\n",
              " 'Medicom': '236',\n",
              " 'Zebra Products': '237',\n",
              " 'TravelSox': '238',\n",
              " 'Z-Man Games': '239',\n",
              " 'Evoluent': '240',\n",
              " 'Adidas ORIGINALS': '241',\n",
              " 'DEPO': '242',\n",
              " 'BROTHER': '243',\n",
              " 'Innovera': '244',\n",
              " 'HQRP': '245',\n",
              " 'American Standard': '246',\n",
              " 'Tidy Books': '247',\n",
              " 'Dean & Tyler': '248',\n",
              " 'Schecter': '249',\n",
              " 'A-DATA': '250',\n",
              " 'Vector': '251',\n",
              " 'Beistle': '252',\n",
              " 'Transformers': '253',\n",
              " 'ageLOC': '254',\n",
              " 'Belleek': '255',\n",
              " 'Honeywell': '256',\n",
              " 'BIC': '257',\n",
              " 'LE CREUSET': '258',\n",
              " 'Total Pet Health': '259',\n",
              " 'Fushi Wellbeing': '260',\n",
              " 'Whirlpool': '261',\n",
              " 'Neat Solutions': '262',\n",
              " 'dhathri': '263',\n",
              " 'Conair': '264',\n",
              " 'TIGI': '265',\n",
              " 'MRM': '266',\n",
              " 'Matchbox': '267',\n",
              " 'Skins': '268',\n",
              " 'Oben': '269',\n",
              " 'Nike': '270',\n",
              " 'Takaratomy': '271',\n",
              " 'Buffy the Vampire Slayer': '272',\n",
              " 'Triumph Sports': '273',\n",
              " 'Seiko': '274',\n",
              " 'Moderna': '275',\n",
              " 'uxcell': '276',\n",
              " 'Mosser Glass': '277',\n",
              " 'SAKURA': '278',\n",
              " 'Frank': '279',\n",
              " 'little tikes': '280',\n",
              " \"Victoria's Secret\": '281',\n",
              " 'Jay Franco': '282',\n",
              " 'Skechers': '283',\n",
              " 'Sculpey': '284',\n",
              " 'PEBEO': '285',\n",
              " 'Erazor Bits': '286',\n",
              " 'POSRUS': '287',\n",
              " 'Gelish': '288',\n",
              " 'Lagoon': '289',\n",
              " 'Tekonsha': '290',\n",
              " 'Molecular Models Company': '291',\n",
              " 'Superior': '292',\n",
              " 'Designcovers': '293',\n",
              " 'B&B Electronics Mfg. Co': '294',\n",
              " 'Prada': '295',\n",
              " 'Uriage': '296',\n",
              " 'K': '297',\n",
              " 'Razer': '298',\n",
              " 'VTech': '299',\n",
              " 'ELC': '300',\n",
              " 'SmallRig': '301',\n",
              " 'Isolate It!': '302',\n",
              " 'Santa Barbara Ceramic Design': '303',\n",
              " 'GSO': '304',\n",
              " 'FOOT PETALS': '305',\n",
              " 'Plant Therapy Essential Oils': '306',\n",
              " 'Lalaloopsy': '307',\n",
              " 'Lancaster': '308',\n",
              " 'ZWILLING': '309',\n",
              " 'Osram': '310',\n",
              " 'VEDICLINE': '311',\n",
              " 'H2O Plus': '312',\n",
              " 'PosterEnvy': '313',\n",
              " 'G.SKILL': '314',\n",
              " 'Body Champ': '315',\n",
              " 'Rosemoore': '316',\n",
              " 'Mcage': '317',\n",
              " \"Rubie's\": '318',\n",
              " 'KEYSIGHT': '319',\n",
              " 'Spin Master': '320',\n",
              " 'Siskiyou': '321',\n",
              " 'EternaBond': '322',\n",
              " 'Chef-Master': '323',\n",
              " 'Simrad': '324',\n",
              " 'Gemina. B': '325',\n",
              " 'TIMEX': '326',\n",
              " 'Puma': '327',\n",
              " 'Gino': '328',\n",
              " 'Tombow': '329',\n",
              " 'E-flite': '330',\n",
              " 'Command': '331',\n",
              " 'WANTED': '332',\n",
              " 'Stagg': '333',\n",
              " 'Quechua': '334',\n",
              " 'RCA': '335',\n",
              " 'Innersense': '336',\n",
              " 'Little Giant Ladder Systems': '337',\n",
              " 'SKF': '338',\n",
              " 'BeginAgain': '339',\n",
              " 'Una': '340',\n",
              " 'Sculpture': '341',\n",
              " 'Floris London': '342',\n",
              " 'One For All': '343',\n",
              " 'Littlearth': '344',\n",
              " 'Goja': '345',\n",
              " 'Mirage Pet': '346',\n",
              " 'Chloe & Olive': '347',\n",
              " 'Chopard': '348',\n",
              " \"Mann's\": '349',\n",
              " 'SUNSOUT INC': '350',\n",
              " 'Christina': '351',\n",
              " 'Piatnik': '352',\n",
              " 'Acu- Life': '353',\n",
              " 'Arduino': '354',\n",
              " 'Oribe': '355',\n",
              " 'Kangol': '356',\n",
              " 'Fairfield': '357',\n",
              " 'Easton': '358',\n",
              " 'ESTERLINE ADVANCED INPUT SYS.': '359',\n",
              " 'Quick Service Distributors': '360',\n",
              " 'King Kong': '361',\n",
              " 'ARMAF': '362',\n",
              " 'Nestle': '363',\n",
              " 'Usha': '364',\n",
              " 'Robocar Poli': '365',\n",
              " 'Rescue Heroes': '366',\n",
              " 'Creative Educational Aids P. Ltd.': '367',\n",
              " 'Bodum': '368',\n",
              " 'SMK-Link': '369',\n",
              " 'Emedco': '370',\n",
              " 'Weddingstar Inc.': '371',\n",
              " 'Shepherd Hardware': '372',\n",
              " 'American Fireglass': '373',\n",
              " 'Premium': '374',\n",
              " 'CliC': '375',\n",
              " 'Cordoba': '376',\n",
              " 'ACOMPATIBLE': '377',\n",
              " 'Deep Blue Professional': '378',\n",
              " 'Suisai': '379',\n",
              " 'No': '380',\n",
              " 'Shinhan': '381',\n",
              " 'New Star Foodservice': '382',\n",
              " \"M&M's\": '383',\n",
              " 'Inalsa': '384',\n",
              " 'Kuryakyn': '385',\n",
              " 'Faber-Castell': '386',\n",
              " 'Sea Dog Line': '387',\n",
              " 'Beach+Organics+Skin+Care': '388',\n",
              " 'Mares': '389',\n",
              " 'Baby Memory Prints': '390',\n",
              " 'SS Adams': '391',\n",
              " 'Clear': '392',\n",
              " 'Farlin': '393',\n",
              " 'Raffine': '394',\n",
              " 'Khadi Natural': '395',\n",
              " 'NECA': '396',\n",
              " 'Morellato': '397',\n",
              " 'The Incense Match': '398',\n",
              " 'Delverde': '399',\n",
              " 'Veratex': '400',\n",
              " 'Komar': '401',\n",
              " 'X-1 AUDIO': '402',\n",
              " 'Hansgrohe': '403',\n",
              " 'I-Mag Reading Glasses': '404',\n",
              " 'QVS': '405',\n",
              " 'Maxwell and Williams Designer Homewares': '406',\n",
              " 'Life Extension': '407',\n",
              " 'Amico': '408',\n",
              " 'Safavieh': '409',\n",
              " 'Oleva': '410',\n",
              " 'Soundmagic': '411',\n",
              " 'KISSLER & CO. INC': '412',\n",
              " 'JSB': '413',\n",
              " 'Himalaya': '414',\n",
              " 'Siemens': '415',\n",
              " 'Scalextric': '416',\n",
              " 'Fox Run': '417',\n",
              " 'Fjallraven': '418',\n",
              " 'Cpc': '419',\n",
              " '3dRose': '420',\n",
              " 'SkinPro': '421',\n",
              " 'Sellstrom': '422',\n",
              " 'Disney': '423',\n",
              " 'Sand': '424',\n",
              " 'Pigeon': '425',\n",
              " 'Zing': '426',\n",
              " 'YONEX': '427',\n",
              " 'NAVAdeal': '428',\n",
              " 'one on one': '429',\n",
              " \"L'OCCITANE\": '430',\n",
              " 'Zazzol': '431',\n",
              " 'SEPHORA COLLECTION': '432',\n",
              " 'NAXA Electronics': '433',\n",
              " 'Celkon': '434',\n",
              " 'Apexel': '435',\n",
              " 'TOSHIBA': '436',\n",
              " 'Silvershake': '437',\n",
              " 'Snow Joe / Sun Joe': '438',\n",
              " 'Ralph Lauren': '439',\n",
              " 'Application': '440',\n",
              " 'Supermicro': '441',\n",
              " 'Magic': '442',\n",
              " 'Dynamic': '443',\n",
              " 'Super': '444',\n",
              " 'Joie': '445',\n",
              " 'Tervis': '446',\n",
              " 'Gen-El': '447',\n",
              " 'Square D by Schneider Electric': '448',\n",
              " 'Peora': '449',\n",
              " 'Livex Lighting': '450',\n",
              " 'Mcp': '451',\n",
              " 'Maxx': '452',\n",
              " 'OTC': '453',\n",
              " 'MISSHA': '454',\n",
              " 'ZHEN': '455',\n",
              " 'Dirty Velvet': '456',\n",
              " 'Prime-Line Products': '457',\n",
              " 'NUK': '458',\n",
              " 'AQUARIUS': '459',\n",
              " 'Gecco': '460',\n",
              " 'Redcat Racing': '461',\n",
              " 'Sulwhasoo': '462',\n",
              " 'CABLESETC': '463',\n",
              " '925 Silver': '464',\n",
              " 'Unknown': '465',\n",
              " 'Easy-Up': '466',\n",
              " 'NOSDisk': '467',\n",
              " 'Sedona Lace': '468',\n",
              " 'The Pencil Grip': '469',\n",
              " \"I'm Eggscellent\": '470',\n",
              " 'Great Papers!': '471',\n",
              " 'Amardeep': '472',\n",
              " 'Hagen': '473',\n",
              " 'Centy Toys': '474',\n",
              " 'DeLonghi': '475',\n",
              " 'Auto World': '476',\n",
              " 'CMT': '477',\n",
              " 'Clarks': '478',\n",
              " 'Hawkins': '479',\n",
              " 'Colorbar': '480',\n",
              " 'Cisco': '481',\n",
              " 'Swatch': '482',\n",
              " 'Kyosho': '483',\n",
              " 'Mionix': '484',\n",
              " 'Sleek MakeUp': '485',\n",
              " 'Quantum Fishing': '486',\n",
              " 'Lacoste': '487',\n",
              " 'Bruck Lighting': '488',\n",
              " 'Ajanta': '489',\n",
              " 'Alessi': '490',\n",
              " 'Beats': '491',\n",
              " 'Inspired Laser Design': '492',\n",
              " 'Sole Designs': '493',\n",
              " 'Klipsch': '494',\n",
              " 'Rustic Art': '495',\n",
              " 'ColorRite': '496',\n",
              " 'STLab': '497',\n",
              " 'Luminarc': '498',\n",
              " 'Dyson': '499',\n",
              " 'Miracle': '500',\n",
              " 'Estee Lauder': '501',\n",
              " 'S Superfine Printing': '502',\n",
              " 'Dior': '503',\n",
              " 'Art Emporio': '504',\n",
              " 'WATSON': '505',\n",
              " 'PF': '506',\n",
              " 'Rimmel': '507',\n",
              " 'Max Factor': '508',\n",
              " 'banjira': '509',\n",
              " 'TAMURA': '510',\n",
              " 'Cooler Master': '511',\n",
              " 'Sellify': '512',\n",
              " 'TaoTronics': '513',\n",
              " 'Kohnore': '514',\n",
              " 'Warlord Games': '515',\n",
              " 'Fabulous Frannie': '516',\n",
              " 'Impulse': '517',\n",
              " 'Wiremold': '518',\n",
              " 'Fantasy Crystal': '519',\n",
              " 'Big Plush': '520',\n",
              " 'Forever Living': '521',\n",
              " 'Movie Photos': '522',\n",
              " 'ANCHOR': '523',\n",
              " 'Sky Mobiles': '524',\n",
              " 'KOKKIA': '525',\n",
              " 'Chard': '526',\n",
              " 'Casa Noel': '527',\n",
              " 'Hot Muggs': '528',\n",
              " 'Fourwalls': '529',\n",
              " 'Univex': '530',\n",
              " 'The Original Kitchen Cooperative': '531',\n",
              " 'Palladium': '532',\n",
              " 'Brio': '533',\n",
              " 'Rohl': '534',\n",
              " 'Hunts': '535',\n",
              " 'Anatolian': '536',\n",
              " 'Via Nature': '537',\n",
              " 'PcProfessional': '538',\n",
              " 'Flamingo': '539',\n",
              " 'EDUEDGE': '540',\n",
              " 'Monster Jam': '541',\n",
              " 'Bobbi': '542',\n",
              " 'Black Box': '543',\n",
              " 'M.A.C': '544',\n",
              " 'Home Styles': '545',\n",
              " 'United Fun': '546',\n",
              " \"Coffman's\": '547',\n",
              " 'DoubleNet': '548',\n",
              " 'INOX': '549',\n",
              " 'PINDIA': '550',\n",
              " 'WYZworks': '551',\n",
              " 'Pro-Ject': '552',\n",
              " 'Colorica': '553',\n",
              " 'Tunturi': '554',\n",
              " 'Logitech': '555',\n",
              " 'ALL FOR PAWS': '556',\n",
              " 'Coolers (from Liberty)': '557',\n",
              " 'Sunsetter': '558',\n",
              " 'Cable Matters': '559',\n",
              " 'Huggies': '560',\n",
              " 'RKA': '561',\n",
              " 'Sview': '562',\n",
              " 'Kimberly-Clark': '563',\n",
              " 'Prima Spremitura': '564',\n",
              " 'Klamotten': '565',\n",
              " 'WE R MEMORY KEEPERS': '566',\n",
              " 'WonderKids': '567',\n",
              " 'JOHAREEZ': '568',\n",
              " 'Closeup': '569',\n",
              " 'AmericanMade': '570',\n",
              " 'COVERGIRL': '571',\n",
              " 'Designers Impressions': '572',\n",
              " 'Epic': '573',\n",
              " 'Tyger Auto': '574',\n",
              " 'aryanveda': '575',\n",
              " 'KENT': '576',\n",
              " 'Triumph International': '577',\n",
              " 'Clorox': '578',\n",
              " 'Batiste': '579',\n",
              " \"Elegante'\": '580',\n",
              " 'The Powder Coat Store': '581',\n",
              " 'Casecover': '582',\n",
              " 'Set Wet': '583',\n",
              " 'Aarogyam Energy Jewellery': '584',\n",
              " 'Forbaby': '585',\n",
              " 'KODIA': '586',\n",
              " 'Shock Doctor': '587',\n",
              " 'Peace Resource Project': '588',\n",
              " 'L.A GIRL': '589',\n",
              " 'Skindinavia': '590',\n",
              " 'Fila': '591',\n",
              " 'new balance': '592',\n",
              " 'TOMY': '593',\n",
              " 'DecoPac': '594',\n",
              " 'Eurotica': '595',\n",
              " 'Giorgio Armani': '596',\n",
              " 'Aroma Treasures': '597',\n",
              " 'Cook Pro': '598',\n",
              " 'Dolce & Gabbana': '599',\n",
              " 'AHSAAS': '600',\n",
              " 'Zacria': '601',\n",
              " 'Mumtaz': '602',\n",
              " 'IntelGadgets': '603',\n",
              " 'Funko': '604',\n",
              " 'Liberty': '605',\n",
              " 'Nikon': '606',\n",
              " 'VENUM': '607',\n",
              " 'The PuckOpener': '608',\n",
              " 'Welly': '609',\n",
              " 'Adamis': '610',\n",
              " 'Kaweco': '611',\n",
              " 'ZILLA': '612',\n",
              " 'Sprint Filter': '613',\n",
              " 'Ananth Jewels': '614',\n",
              " 'Robert Kaufman': '615',\n",
              " 'Protoner': '616',\n",
              " 'Playstar': '617',\n",
              " 'SG': '618',\n",
              " 'BATA': '619',\n",
              " 'Silicone Zone': '620',\n",
              " 'Funwood Games': '621',\n",
              " 'E-Z Ink': '622',\n",
              " 'Tweeterhead': '623',\n",
              " 'TSX': '624',\n",
              " 'Supcase': '625',\n",
              " 'Kitchens Of India': '626',\n",
              " 'Dymatize': '627',\n",
              " 'Parker': '628',\n",
              " 'Kiki bird food': '629',\n",
              " 'GLASSLOCK': '630',\n",
              " 'KOKA': '631',\n",
              " 'BERGNER': '632',\n",
              " 'Bangdeal2012': '633',\n",
              " 'Iraya': '634',\n",
              " 'Amazon Pay': '635',\n",
              " 'Ibanez': '636',\n",
              " 'Nayasa': '637',\n",
              " 'Goofy Tails': '638',\n",
              " 'Nivia': '639',\n",
              " 'Adira': '640',\n",
              " 'Marvel': '641',\n",
              " 'GeminiJets': '642',\n",
              " 'Rolson': '643',\n",
              " 'amy2004marie': '644',\n",
              " 'Viari': '645',\n",
              " 'Algotherm': '646',\n",
              " 'Camper': '647',\n",
              " 'DigitalUS': '648',\n",
              " 'Mitashi': '649',\n",
              " 'Pristine': '650',\n",
              " 'Conscious Food': '651',\n",
              " 'Lady Liberty': '652',\n",
              " 'Race Products': '653',\n",
              " 'Vinod': '654',\n",
              " 'NEC': '655',\n",
              " 'Aurelia': '656',\n",
              " 'Bostik': '657',\n",
              " 'Air Hogs': '658',\n",
              " 'GirlZ!': '659',\n",
              " 'TAMA': '660',\n",
              " 'Dayton': '661',\n",
              " 'MediCordz': '662',\n",
              " 'Mantis': '663',\n",
              " 'Skybags': '664',\n",
              " 'Goki': '665',\n",
              " 'Linksys': '666',\n",
              " 'Spice Art': '667',\n",
              " 'Cohesive': '668',\n",
              " 'SHAKESPEARE': '669',\n",
              " 'Speedwav': '670',\n",
              " 'Natural Transitions Inc': '671',\n",
              " 'Proline': '672',\n",
              " 'GOODWAY': '673',\n",
              " 'Clinique': '674',\n",
              " 'Sennheiser': '675',\n",
              " 'FEDUS': '676',\n",
              " 'Tune Up Fitness': '677',\n",
              " 'Franco Leone': '678',\n",
              " 'AXON': '679',\n",
              " 'CE Rhino': '680',\n",
              " 'TruVision Readers': '681',\n",
              " 'Skin Food': '682',\n",
              " 'amscan': '683',\n",
              " 'Masha': '684',\n",
              " 'Kinsmart': '685',\n",
              " 'Team Fortress 2': '686',\n",
              " 'HotShuffle': '687',\n",
              " 'PHONAK': '688',\n",
              " 'Shalinindia': '689',\n",
              " 'Christine Valmy': '690',\n",
              " 'Do Bhai': '691',\n",
              " 'Evenflo': '692',\n",
              " 'Fashionography': '693',\n",
              " 'Fastrack': '694',\n",
              " 'Tovolo': '695',\n",
              " 'STAG': '696',\n",
              " 'The Irish Linen Store': '697',\n",
              " 'Sizzix': '698',\n",
              " 'ALEX': '699',\n",
              " 'Stylenmart': '700',\n",
              " 'True': '701',\n",
              " 'MAAYAA ORGANIC STORE': '702',\n",
              " 'Absolute Newyork': '703',\n",
              " 'GRITSTONES': '704',\n",
              " 'The Interior People': '705',\n",
              " 'rs electricals': '706',\n",
              " 'Carefresh': '707',\n",
              " 'One World': '708',\n",
              " 'E-3LUE': '709',\n",
              " 'Schneider': '710',\n",
              " 'WOW': '711',\n",
              " 'Via Mazzini': '712',\n",
              " 'Pioneer': '713',\n",
              " 'Good Smile': '714',\n",
              " 'Kores': '715',\n",
              " 'James Bond': '716',\n",
              " 'Philips Avent': '717',\n",
              " 'Onlykidz': '718',\n",
              " 'Exotic Green': '719',\n",
              " 'RelaxMaternity': '720',\n",
              " 'Bath & Body Works': '721',\n",
              " 'MERI CHAI': '722',\n",
              " 'Soybu': '723',\n",
              " 'Punam': '724',\n",
              " 'Truebro': '725',\n",
              " 'GreatGadgets': '726',\n",
              " 'Vector X': '727',\n",
              " 'RINCO': '728',\n",
              " 'Munchkin': '729',\n",
              " 'Factory Effex': '730',\n",
              " 'Frigidaire': '731',\n",
              " 'The Mountain': '732',\n",
              " 'Gallery Solutions': '733',\n",
              " 'Clara': '734',\n",
              " 'Bull-Dog': '735',\n",
              " 'Mothers': '736',\n",
              " 'Kissan': '737',\n",
              " 'Perfume': '738',\n",
              " 'ComfyBean': '739',\n",
              " 'Steve Madden': '740',\n",
              " 'United Colors of Benetton': '741',\n",
              " 'Jones': '742',\n",
              " 'THE FAMUS': '743',\n",
              " 'ORIGINAL PENGUIN': '744',\n",
              " 'CariFree': '745',\n",
              " 'FLASKA': '746',\n",
              " 'Stamp': '747',\n",
              " 'LyxPro': '748',\n",
              " 'Stanwood Wind Sculpture': '749',\n",
              " \"ADEE'S COLLECTION\": '750',\n",
              " 'Seven Seas': '751',\n",
              " 'GREEN SPROUTS': '752',\n",
              " 'Toteteca': '753',\n",
              " 'ADDA': '754',\n",
              " 'Etnies': '755',\n",
              " 'Zensual': '756',\n",
              " 'Avarna': '757',\n",
              " 'New Day': '758',\n",
              " 'Madison Park': '759',\n",
              " 'Funfoods': '760',\n",
              " 'UNO Minda': '761',\n",
              " 'TARAASH': '762',\n",
              " 'Oster': '763',\n",
              " 'GRID STORE': '764',\n",
              " 'HABIBS': '765',\n",
              " 'Zeskit': '766',\n",
              " 'Learning Resources': '767',\n",
              " 'Mahi': '768',\n",
              " 'Flying Machine': '769',\n",
              " 'AME Sleepwear': '770',\n",
              " 'Bburago': '771',\n",
              " 'Pyrex': '772',\n",
              " 'Young & Forever': '773',\n",
              " 'Yankee Candle': '774',\n",
              " 'ADISA': '775',\n",
              " 'S9': '776',\n",
              " 'Star Wars': '777',\n",
              " 'iBall': '778',\n",
              " 'WISEUP': '779',\n",
              " 'Ark Lighting': '780',\n",
              " 'IndiWeaves Fashions': '781',\n",
              " 'odishabazaar': '782',\n",
              " 'GARTIN': '783',\n",
              " 'Go Green': '784',\n",
              " 'Zebronics': '785',\n",
              " 'VK': '786',\n",
              " 'Daiwa': '787',\n",
              " 'SDO': '788',\n",
              " 'Karbonn': '789',\n",
              " 'Villcart': '790',\n",
              " 'MB Life Sciences': '791',\n",
              " 'Under Armour': '792',\n",
              " 'Paree': '793',\n",
              " 'plantsguru': '794',\n",
              " 'Lumax': '795',\n",
              " 'Top Gun': '796',\n",
              " 'Campus Sutra': '797',\n",
              " 'DAISY DEE': '798',\n",
              " 'Femmora': '799',\n",
              " 'Stardox': '800',\n",
              " 'RPM': '801',\n",
              " 'Indi Bargain': '802',\n",
              " 'TOYOTA': '803',\n",
              " 'Mastela': '804',\n",
              " 'Play-Doh': '805',\n",
              " 'O2COOL': '806',\n",
              " 'Fabulous Pet': '807',\n",
              " 'Agaram Herbal': '808',\n",
              " 'Aroma Magic': '809',\n",
              " 'Glitzy': '810',\n",
              " 'decorbox': '811',\n",
              " 'Baggit': '812',\n",
              " 'HDL': '813',\n",
              " 'IRISMARU': '814',\n",
              " 'MaxSteel': '815',\n",
              " 'Chantelle': '816',\n",
              " 'Milliard': '817',\n",
              " \"Paula's Choice\": '818',\n",
              " 'Alpha Man': '819',\n",
              " 'Dove': '820',\n",
              " 'Trident': '821',\n",
              " 'SPB': '822',\n",
              " '3dRose LLC': '823',\n",
              " 'Saco': '824',\n",
              " 'Fancy Pants Designs': '825',\n",
              " 'CUISINART': '826',\n",
              " 'Haier': '827',\n",
              " 'CERA': '828',\n",
              " 'Fender': '829',\n",
              " 'PC Jeweller': '830',\n",
              " 'Blue Star': '831',\n",
              " \"Nature's Bounty\": '832',\n",
              " 'Janome': '833',\n",
              " 'Rmz City': '834',\n",
              " 'RIN': '835',\n",
              " 'Royal Tradition': '836',\n",
              " 'Dungri India Craft': '837',\n",
              " 'Guaranteed4Less': '838',\n",
              " 'Emporio Armani': '839',\n",
              " 'O Hui': '840',\n",
              " 'Being Human': '841',\n",
              " 'A-Tech Components': '842',\n",
              " 'Turtle Beach': '843',\n",
              " 'Tamiya': '844',\n",
              " 'Kapasi Handicrafts': '845',\n",
              " 'Roots': '846',\n",
              " 'ZAGG': '847',\n",
              " 'Lincoln Logs': '848',\n",
              " 'HM': '849',\n",
              " 'KISHCO': '850',\n",
              " 'KidKraft': '851',\n",
              " 'GLOTHERAPEUTICS': '852',\n",
              " 'Born Free': '853',\n",
              " 'Kotobukiya': '854',\n",
              " 'Onlineshoppee': '855',\n",
              " 'Tiny Care': '856',\n",
              " 'WalthersMainline': '857',\n",
              " 'Titleist': '858',\n",
              " 'Babolat': '859',\n",
              " 'NARS': '860',\n",
              " \"Tong Garden's Noi\": '861',\n",
              " 'Voberry': '862',\n",
              " 'Quahog Bay Bedding': '863',\n",
              " 'famacart': '864',\n",
              " 'MLS by Outerstuff': '865',\n",
              " 'Brightech': '866',\n",
              " 'Thalgo': '867',\n",
              " 'Hosley': '868',\n",
              " 'True Fabrication': '869',\n",
              " 'Koeckritz Rugs': '870',\n",
              " 'Black & Decker': '871',\n",
              " 'Zurii': '872',\n",
              " 'Zebra Technologies': '873',\n",
              " 'Sold Individually': '874',\n",
              " 'Kalyani': '875',\n",
              " 'LightFairy': '876',\n",
              " 'Globaltracking.Net': '877',\n",
              " 'VINTRONS': '878',\n",
              " 'MUCH-MORE': '879',\n",
              " 'Sonari': '880',\n",
              " 'Cockatoo': '881',\n",
              " 'SAF': '882',\n",
              " 'Clublaptop': '883',\n",
              " 'Oreva': '884',\n",
              " 'Guajolote Prints': '885',\n",
              " 'White Moon': '886',\n",
              " 'Cello': '887',\n",
              " 'Fashigo': '888',\n",
              " 'Fantasy Make up': '889',\n",
              " 'Bloomer Clothings': '890',\n",
              " 'Lux': '891',\n",
              " 'KitsGuru': '892',\n",
              " 'LA Linen': '893',\n",
              " 'WEMA USA': '894',\n",
              " 'Laurels': '895',\n",
              " 'ZTC': '896',\n",
              " 'Shital': '897',\n",
              " 'Lotto': '898',\n",
              " 'Charm': '899',\n",
              " 'BROWN BEAR': '900',\n",
              " 'Apple': '901',\n",
              " 'NITE FLITE': '902',\n",
              " 'Thermos': '903',\n",
              " 'Sini Mini': '904',\n",
              " 'UIN': '905',\n",
              " 'Paras': '906',\n",
              " 'Purys': '907',\n",
              " 'Stronghold Games': '908',\n",
              " 'Nourish': '909',\n",
              " 'VanGoddy': '910',\n",
              " 'StarTech': '911',\n",
              " 'Tasty treat': '912',\n",
              " 'Noor': '913',\n",
              " 'Natori': '914',\n",
              " 'Creative': '915',\n",
              " 'Heega': '916',\n",
              " 'E.E. Schenck': '917',\n",
              " 'Micromax': '918',\n",
              " 'Uncle': '919',\n",
              " 'Surf Excel': '920',\n",
              " 'Sweet Home Collection': '921',\n",
              " 'Hanes': '922',\n",
              " 'Vozaf': '923',\n",
              " 'Fa': '924',\n",
              " 'BabySid Collections': '925',\n",
              " 'Maharaja Whiteline': '926',\n",
              " 'Lightahead': '927',\n",
              " 'TARKAN': '928',\n",
              " 'DS International': '929',\n",
              " 'crocs': '930',\n",
              " 'Status Quo': '931',\n",
              " 'ESTELLE': '932',\n",
              " 'HEALTH FIT': '933',\n",
              " 'Superdry': '934',\n",
              " 'Pepe Jeans': '935',\n",
              " 'ATTACHE': '936',\n",
              " 'GODSPEED': '937',\n",
              " 'Natural Living': '938',\n",
              " 'Montu Bunty Wear': '939',\n",
              " 'GL_Lite': '940',\n",
              " 'Skullcandy': '941',\n",
              " 'Carving point': '942',\n",
              " 'Mother Organic': '943',\n",
              " 'MULTICOMP': '944',\n",
              " 'Genteq': '945',\n",
              " 'Native': '946',\n",
              " 'Hurtta': '947',\n",
              " 'Jordan': '948',\n",
              " 'French Connection': '949',\n",
              " 'Geroo': '950',\n",
              " 'Mastech': '951',\n",
              " 'Resistol Hats': '952',\n",
              " 'Azziano': '953',\n",
              " 'Omoroze': '954',\n",
              " 'Mullich': '955',\n",
              " 'BargainRollBack': '956',\n",
              " 'Gizga': '957',\n",
              " 'Clinical Resolution Laboratory': '958',\n",
              " 'People': '959',\n",
              " 'Shyama': '960',\n",
              " 'KuberBox': '961',\n",
              " 'Jockey': '962',\n",
              " 'BRILLARE': '963',\n",
              " 'Incase Designs': '964',\n",
              " 'MagsPearl': '965',\n",
              " 'Pannkh': '966',\n",
              " 'Everything is Play': '967',\n",
              " 'SURATDIAMOND': '968',\n",
              " 'Prisha Collections': '969',\n",
              " 'OmniPet': '970',\n",
              " 'Renewalize': '971',\n",
              " 'STUDIO NEXX': '972',\n",
              " 'Fox Racing': '973',\n",
              " 'US Polo Association': '974',\n",
              " 'Tommy Hilfiger': '975',\n",
              " 'Planet of Toys': '976',\n",
              " '55Carat': '977',\n",
              " 'Better Cables': '978',\n",
              " 'Forever Collectibles': '979',\n",
              " 'Makes 3 Organics': '980',\n",
              " 'ZoLi': '981',\n",
              " 'ACM': '982',\n",
              " 'Rashi Ratan Bhagya': '983',\n",
              " 'Country Flavours': '984',\n",
              " 'Sonata': '985',\n",
              " 'Shresta': '986',\n",
              " 'ZAVERI PEARLS': '987',\n",
              " 'AGRA CosmeticsÃ‚Â': '988',\n",
              " 'Diamond': '989',\n",
              " 'JLIKA': '990',\n",
              " 'Calvin Klein': '991',\n",
              " 'KAZIMA': '992',\n",
              " 'Okayji': '993',\n",
              " 'Takabb': '994',\n",
              " 'JERAI FITNESS': '995',\n",
              " 'Trademark Innovations': '996',\n",
              " 'DZT1968': '997',\n",
              " 'Go Glam': '998',\n",
              " 'Prolite': '999',\n",
              " 'Unbranded': '1000',\n",
              " ...}"
            ]
          },
          "metadata": {
            "tags": []
          },
          "execution_count": 29
        }
      ]
    },
    {
      "cell_type": "code",
      "metadata": {
        "id": "_PPLF5hP8P1N"
      },
      "source": [
        "train4.astype(str).replace(reverse_mydict)\n"
      ],
      "execution_count": null,
      "outputs": []
    },
    {
      "cell_type": "code",
      "metadata": {
        "colab": {
          "base_uri": "https://localhost:8080/",
          "height": 203
        },
        "id": "YAAT2WpdJHZg",
        "outputId": "bf727ea7-de88-4653-d8a6-00f89e95ef8b"
      },
      "source": [
        "train_eight"
      ],
      "execution_count": null,
      "outputs": [
        {
          "output_type": "execute_result",
          "data": {
            "text/html": [
              "<div>\n",
              "<style scoped>\n",
              "    .dataframe tbody tr th:only-of-type {\n",
              "        vertical-align: middle;\n",
              "    }\n",
              "\n",
              "    .dataframe tbody tr th {\n",
              "        vertical-align: top;\n",
              "    }\n",
              "\n",
              "    .dataframe thead th {\n",
              "        text-align: right;\n",
              "    }\n",
              "</style>\n",
              "<table border=\"1\" class=\"dataframe\">\n",
              "  <thead>\n",
              "    <tr style=\"text-align: right;\">\n",
              "      <th></th>\n",
              "      <th>TITLE</th>\n",
              "      <th>DESCRIPTION</th>\n",
              "      <th>BULLET_POINTS</th>\n",
              "      <th>BRAND</th>\n",
              "      <th>BROWSE_NODE_ID</th>\n",
              "    </tr>\n",
              "  </thead>\n",
              "  <tbody>\n",
              "    <tr>\n",
              "      <th>0</th>\n",
              "      <td>Pete The Cat Bedtime Blues Doll, 14.5 Inch</td>\n",
              "      <td>Pete the Cat is the coolest, most popular cat ...</td>\n",
              "      <td>[Pete the Cat Bedtime Blues plush doll,Based o...</td>\n",
              "      <td>MerryMakers</td>\n",
              "      <td>0</td>\n",
              "    </tr>\n",
              "    <tr>\n",
              "      <th>1</th>\n",
              "      <td>The New Yorker NYHM014 Refrigerator Magnet, 2 ...</td>\n",
              "      <td>The New Yorker Handsome Cello Wrapped Hard Mag...</td>\n",
              "      <td>[Cat In A Tea Cup by New Yorker cover artist G...</td>\n",
              "      <td>The New Yorker</td>\n",
              "      <td>1</td>\n",
              "    </tr>\n",
              "    <tr>\n",
              "      <th>2</th>\n",
              "      <td>The Ultimate Self-Sufficiency Handbook: A Comp...</td>\n",
              "      <td>NaN</td>\n",
              "      <td>Skyhorse Publishing</td>\n",
              "      <td>imusti</td>\n",
              "      <td>2</td>\n",
              "    </tr>\n",
              "    <tr>\n",
              "      <th>3</th>\n",
              "      <td>Amway Nutrilite Kids Chewable Iron Tablets (100)</td>\n",
              "      <td>NaN</td>\n",
              "      <td>[Nutrilite Kids,Chewable Iron Tablets,Quantity...</td>\n",
              "      <td>Amway</td>\n",
              "      <td>3</td>\n",
              "    </tr>\n",
              "    <tr>\n",
              "      <th>4</th>\n",
              "      <td>Teacher Planner Company A4 6 Lesson Academic T...</td>\n",
              "      <td>NaN</td>\n",
              "      <td>NaN</td>\n",
              "      <td>NaN</td>\n",
              "      <td>4</td>\n",
              "    </tr>\n",
              "  </tbody>\n",
              "</table>\n",
              "</div>"
            ],
            "text/plain": [
              "                                               TITLE  ... BROWSE_NODE_ID\n",
              "0         Pete The Cat Bedtime Blues Doll, 14.5 Inch  ...              0\n",
              "1  The New Yorker NYHM014 Refrigerator Magnet, 2 ...  ...              1\n",
              "2  The Ultimate Self-Sufficiency Handbook: A Comp...  ...              2\n",
              "3   Amway Nutrilite Kids Chewable Iron Tablets (100)  ...              3\n",
              "4  Teacher Planner Company A4 6 Lesson Academic T...  ...              4\n",
              "\n",
              "[5 rows x 5 columns]"
            ]
          },
          "metadata": {
            "tags": []
          },
          "execution_count": 33
        }
      ]
    },
    {
      "cell_type": "code",
      "metadata": {
        "colab": {
          "base_uri": "https://localhost:8080/"
        },
        "id": "1Eg4CnlMl6f_",
        "outputId": "12b6404d-09dc-4716-febe-cbf56f544846"
      },
      "source": [
        "training_data['DESCRIPTION'].unique()"
      ],
      "execution_count": null,
      "outputs": [
        {
          "output_type": "execute_result",
          "data": {
            "text/plain": [
              "array([\"Pete the Cat is the coolest, most popular cat in town. The new Pete the Cat Bedtime Blues Doll from MerryMakers rocks his striped pj's and red slippers. He is one sleepy cat and is ready to cuddle. Measures 14.5 inches tall. Safe for all ages. Removable clothing. Surface wash only. New 2015\",\n",
              "       'The New Yorker Handsome Cello Wrapped Hard Magnet measures 2.5-Inch width by 3.5-Inch height and highlight one of the many beautiful New Yorker covers in full color. Cat In A Tea Cup by New Yorker cover artist Gurbuz Dogan Eksioglu',\n",
              "       nan, ...,\n",
              "       'set of 5 prints social distancing sticker self adhesive vinyl sticker which is easy to paste on floor to spread awareness and create a safe surrounding to make all your workspace / house safer with these signages. it can be used in any place - restaurant/ offices / school / college / retail / factory / hotel',\n",
              "       '* COMPLETE FACE PROTECTION: Torr-to Face Shield effectively isolates your face from saliva, spray, splatter, droplet, dust, oil and smoke while offering crystal clear vision for ease in doing tasks. * COMFORTABLE, ADJUSTABLE & REUSABLE: Equipped with 350 micron sheet with elastic band and sponge headband which is suitable for extended wear. * ANTI-FOG & ANTI-STATIC: It is coated with anti-fog and anti-static materials to ensure maximum visibility like it’s not even on your face. Good solution for keeping mist and droplets off your face. * FITS FOR ALL: Easy to adjust for a custom fit, thanks to its elastic headband that offers a secure fit on all head sizes. * HUMANIZED PROTECTIVE COVER: Our offered Anti-Splash Facial Shield perfectly fits over prescription glasses for effortless working in environments such as Hospitals, Lab, Woodworking, etc',\n",
              "       'Performance inspired by comfort. The polo shirt mixes the comfort of cotton with the exceptional wicking performance of polyester. Short sleeves, Rib knit collar'],\n",
              "      dtype=object)"
            ]
          },
          "metadata": {
            "tags": []
          },
          "execution_count": 15
        }
      ]
    },
    {
      "cell_type": "code",
      "metadata": {
        "colab": {
          "base_uri": "https://localhost:8080/"
        },
        "id": "L-DzqNYXn99M",
        "outputId": "ed4df00a-3583-4c3d-8050-9683677e1c3f"
      },
      "source": [
        "training_data.isna().sum()"
      ],
      "execution_count": null,
      "outputs": [
        {
          "output_type": "execute_result",
          "data": {
            "text/plain": [
              "TITLE                 71\n",
              "DESCRIPTION       723664\n",
              "BULLET_POINTS     166263\n",
              "BRAND              56737\n",
              "BROWSE_NODE_ID         0\n",
              "dtype: int64"
            ]
          },
          "metadata": {
            "tags": []
          },
          "execution_count": 9
        }
      ]
    },
    {
      "cell_type": "code",
      "metadata": {
        "colab": {
          "base_uri": "https://localhost:8080/"
        },
        "id": "DgU8z7zpvOOs",
        "outputId": "283c6edf-2633-4560-af8f-eaf5624aabc4"
      },
      "source": [
        "training_data.shape"
      ],
      "execution_count": null,
      "outputs": [
        {
          "output_type": "execute_result",
          "data": {
            "text/plain": [
              "(2903024, 5)"
            ]
          },
          "metadata": {
            "tags": []
          },
          "execution_count": 19
        }
      ]
    },
    {
      "cell_type": "code",
      "metadata": {
        "id": "qqsjsxdTv3Ea"
      },
      "source": [
        "train_data = training_data.drop(['DESCRIPTION'],axis=1)"
      ],
      "execution_count": null,
      "outputs": []
    },
    {
      "cell_type": "code",
      "metadata": {
        "colab": {
          "base_uri": "https://localhost:8080/"
        },
        "id": "nAB5J3VpydRh",
        "outputId": "a8ef763e-9520-4a14-947a-7b432f3e8b34"
      },
      "source": [
        "train_data.info()"
      ],
      "execution_count": null,
      "outputs": [
        {
          "output_type": "stream",
          "text": [
            "<class 'pandas.core.frame.DataFrame'>\n",
            "RangeIndex: 2903024 entries, 0 to 2903023\n",
            "Data columns (total 4 columns):\n",
            " #   Column          Dtype \n",
            "---  ------          ----- \n",
            " 0   TITLE           object\n",
            " 1   BULLET_POINTS   object\n",
            " 2   BRAND           object\n",
            " 3   BROWSE_NODE_ID  int64 \n",
            "dtypes: int64(1), object(3)\n",
            "memory usage: 88.6+ MB\n"
          ],
          "name": "stdout"
        }
      ]
    },
    {
      "cell_type": "code",
      "metadata": {
        "colab": {
          "base_uri": "https://localhost:8080/",
          "height": 203
        },
        "id": "D_ZqpzDOyhNr",
        "outputId": "212269d3-5f48-4ce2-c68d-7a837ad29af2"
      },
      "source": [
        "y=train_data.head()\n",
        "y"
      ],
      "execution_count": null,
      "outputs": [
        {
          "output_type": "execute_result",
          "data": {
            "text/html": [
              "<div>\n",
              "<style scoped>\n",
              "    .dataframe tbody tr th:only-of-type {\n",
              "        vertical-align: middle;\n",
              "    }\n",
              "\n",
              "    .dataframe tbody tr th {\n",
              "        vertical-align: top;\n",
              "    }\n",
              "\n",
              "    .dataframe thead th {\n",
              "        text-align: right;\n",
              "    }\n",
              "</style>\n",
              "<table border=\"1\" class=\"dataframe\">\n",
              "  <thead>\n",
              "    <tr style=\"text-align: right;\">\n",
              "      <th></th>\n",
              "      <th>TITLE</th>\n",
              "      <th>BULLET_POINTS</th>\n",
              "      <th>BRAND</th>\n",
              "      <th>BROWSE_NODE_ID</th>\n",
              "    </tr>\n",
              "  </thead>\n",
              "  <tbody>\n",
              "    <tr>\n",
              "      <th>0</th>\n",
              "      <td>Pete The Cat Bedtime Blues Doll, 14.5 Inch</td>\n",
              "      <td>[Pete the Cat Bedtime Blues plush doll,Based o...</td>\n",
              "      <td>merrymakers</td>\n",
              "      <td>0</td>\n",
              "    </tr>\n",
              "    <tr>\n",
              "      <th>1</th>\n",
              "      <td>The New Yorker NYHM014 Refrigerator Magnet, 2 ...</td>\n",
              "      <td>[Cat In A Tea Cup by New Yorker cover artist G...</td>\n",
              "      <td>the new yorker</td>\n",
              "      <td>1</td>\n",
              "    </tr>\n",
              "    <tr>\n",
              "      <th>2</th>\n",
              "      <td>The Ultimate Self-Sufficiency Handbook: A Comp...</td>\n",
              "      <td>Skyhorse Publishing</td>\n",
              "      <td>imusti</td>\n",
              "      <td>2</td>\n",
              "    </tr>\n",
              "    <tr>\n",
              "      <th>3</th>\n",
              "      <td>Amway Nutrilite Kids Chewable Iron Tablets (100)</td>\n",
              "      <td>[Nutrilite Kids,Chewable Iron Tablets,Quantity...</td>\n",
              "      <td>amway</td>\n",
              "      <td>3</td>\n",
              "    </tr>\n",
              "    <tr>\n",
              "      <th>4</th>\n",
              "      <td>Teacher Planner Company A4 6 Lesson Academic T...</td>\n",
              "      <td>NaN</td>\n",
              "      <td>nan</td>\n",
              "      <td>4</td>\n",
              "    </tr>\n",
              "  </tbody>\n",
              "</table>\n",
              "</div>"
            ],
            "text/plain": [
              "                                               TITLE  ... BROWSE_NODE_ID\n",
              "0         Pete The Cat Bedtime Blues Doll, 14.5 Inch  ...              0\n",
              "1  The New Yorker NYHM014 Refrigerator Magnet, 2 ...  ...              1\n",
              "2  The Ultimate Self-Sufficiency Handbook: A Comp...  ...              2\n",
              "3   Amway Nutrilite Kids Chewable Iron Tablets (100)  ...              3\n",
              "4  Teacher Planner Company A4 6 Lesson Academic T...  ...              4\n",
              "\n",
              "[5 rows x 4 columns]"
            ]
          },
          "metadata": {
            "tags": []
          },
          "execution_count": 65
        }
      ]
    },
    {
      "cell_type": "code",
      "metadata": {
        "colab": {
          "base_uri": "https://localhost:8080/"
        },
        "id": "RnpdgYaB1lFc",
        "outputId": "a0bcfdbc-751b-451b-bdac-6c71bd52fc08"
      },
      "source": [
        "\n",
        "train_data.shape\n"
      ],
      "execution_count": null,
      "outputs": [
        {
          "output_type": "execute_result",
          "data": {
            "text/plain": [
              "(2903024, 4)"
            ]
          },
          "metadata": {
            "tags": []
          },
          "execution_count": 66
        }
      ]
    },
    {
      "cell_type": "code",
      "metadata": {
        "colab": {
          "base_uri": "https://localhost:8080/"
        },
        "id": "oABptGbNV2yR",
        "outputId": "ac9faf87-3533-45a6-bec6-8c7579161fe0"
      },
      "source": [
        "g= y['BRAND'].to_numpy()\n",
        "g"
      ],
      "execution_count": null,
      "outputs": [
        {
          "output_type": "execute_result",
          "data": {
            "text/plain": [
              "array(['merrymakers', 'the new yorker', 'imusti', 'amway', 'nan'],\n",
              "      dtype=object)"
            ]
          },
          "metadata": {
            "tags": []
          },
          "execution_count": 81
        }
      ]
    },
    {
      "cell_type": "code",
      "metadata": {
        "id": "tjcvTiePEHTm"
      },
      "source": [
        "from sklearn.feature_extraction.text import TfidfVectorizer"
      ],
      "execution_count": null,
      "outputs": []
    },
    {
      "cell_type": "code",
      "metadata": {
        "colab": {
          "base_uri": "https://localhost:8080/"
        },
        "id": "tmwgf6fVEiFR",
        "outputId": "c1de8799-96b4-44a3-9b0b-f4f37d4aec9e"
      },
      "source": [
        "tfidf = TfidfVectorizer()\n",
        "feature_matrix = tfidf.fit_transform(g)\n",
        "d=tfidf.vocabulary_\n",
        "# y['BULLET_POINTS']=y['BULLET_POINTS'].astype(str).str.lower()\n",
        "# y['BULLET_POINTS'].replace(d)\n",
        "# phoenetic = [transdict[letter] for letter in abc_array]\n",
        "d"
      ],
      "execution_count": null,
      "outputs": [
        {
          "output_type": "execute_result",
          "data": {
            "text/plain": [
              "{'amway': 0,\n",
              " 'imusti': 1,\n",
              " 'merrymakers': 2,\n",
              " 'nan': 3,\n",
              " 'new': 4,\n",
              " 'the': 5,\n",
              " 'yorker': 6}"
            ]
          },
          "metadata": {
            "tags": []
          },
          "execution_count": 83
        }
      ]
    },
    {
      "cell_type": "code",
      "metadata": {
        "id": "IEnzQwMEXJ0v"
      },
      "source": [
        "b=tfidf.fit_transform(y['BRAND'].astype('U'))\n"
      ],
      "execution_count": null,
      "outputs": []
    },
    {
      "cell_type": "code",
      "metadata": {
        "colab": {
          "base_uri": "https://localhost:8080/"
        },
        "id": "DW8-Kg9hLrDe",
        "outputId": "d42b042e-d935-4d3f-a329-fb540a857de2"
      },
      "source": [
        "# feature_matrix"
      ],
      "execution_count": null,
      "outputs": [
        {
          "output_type": "execute_result",
          "data": {
            "text/plain": [
              "<2903024x455191 sparse matrix of type '<class 'numpy.float64'>'\n",
              "\twith 125781607 stored elements in Compressed Sparse Row format>"
            ]
          },
          "metadata": {
            "tags": []
          },
          "execution_count": 51
        }
      ]
    },
    {
      "cell_type": "code",
      "metadata": {
        "id": "7vd0-VoYsE87"
      },
      "source": [
        "# f2=tfidf.fit_transform(train_data['BRAND'].astype(str))\n"
      ],
      "execution_count": null,
      "outputs": []
    },
    {
      "cell_type": "code",
      "metadata": {
        "id": "Fp1OyIdp3k7C"
      },
      "source": [
        "tfidf.vocabulary_"
      ],
      "execution_count": null,
      "outputs": []
    },
    {
      "cell_type": "code",
      "metadata": {
        "id": "6_2vK11433Pz"
      },
      "source": [
        ""
      ],
      "execution_count": null,
      "outputs": []
    },
    {
      "cell_type": "code",
      "metadata": {
        "id": "4I_89SmT3_Xn"
      },
      "source": [
        ""
      ],
      "execution_count": null,
      "outputs": []
    },
    {
      "cell_type": "code",
      "metadata": {
        "id": "un4YwrgnL2T1"
      },
      "source": [
        ""
      ],
      "execution_count": null,
      "outputs": []
    }
  ]
}
